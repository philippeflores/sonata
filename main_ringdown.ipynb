{
 "cells": [
  {
   "cell_type": "markdown",
   "metadata": {},
   "source": [
    "# SONATA for ringdown gravitational wave data analysis\n",
    "\n",
    "In this notebook, we show an example of ringdown gravitational wave reconstruction with the SONATA method.\n",
    "For more information on garvitational waves and its ringdown phase, please refer to the Section *V.B.* of the related (submitted) SSP article and references therein:\n",
    "\n",
    "[Philippe __Flores__, Julien __Flamant__, Pierre-Olivier __Amblard__, Nicolas __Le Bihan__, _Damped ellipse decomposition for bivariate signals_. Submitted to SSP 2025.]\n",
    "\n",
    "For more information or materials on this regard, please feel free to contact the authors by mail."
   ]
  },
  {
   "cell_type": "code",
   "execution_count": null,
   "metadata": {},
   "outputs": [],
   "source": [
    "## Package importations\n",
    "import numpy as np\n",
    "import pickle\n",
    "import bispy as bsp\n",
    "\n",
    "from sonata_visuals import *\n",
    "from sonata_slra import *\n",
    "from sonata_ellipse import *"
   ]
  },
  {
   "cell_type": "markdown",
   "metadata": {},
   "source": [
    "#### Loading the ringdown data files\n",
    "\n",
    "Along with the code for SONATA, this repository contains two synthetic ringdown data files.\n",
    "\n",
    "* ./data/ringdown/no_spin\n",
    "* ./data/ringdown/with_spin\n",
    "\n",
    "The main difference between those two files is that the spins were set to 0 for the \"no_spin\" file. For each file, the different parameters are available in the \"input.yaml\" file."
   ]
  },
  {
   "cell_type": "code",
   "execution_count": null,
   "metadata": {},
   "outputs": [],
   "source": [
    "file_h_plus = open(\"data/ringdown/no_spin/hplus.pkl\",'rb')\n",
    "hplus = pickle.load(file_h_plus)\n",
    "file_h_plus.close()\n",
    "\n",
    "file_h_cross = open(\"data/ringdown/no_spin/hcross.pkl\",'rb')\n",
    "hcross = pickle.load(file_h_cross)\n",
    "file_h_cross.close()\n",
    "\n",
    "file_time = open(\"data/ringdown/no_spin/time.pkl\",'rb')\n",
    "t = pickle.load(file_time)\n",
    "file_time.close()"
   ]
  },
  {
   "cell_type": "markdown",
   "metadata": {},
   "source": [
    "#### Computation of the $\\mathbb{H}$-embedding of the signal\n",
    "\n",
    "The gravitational wave signal is a bivariate polarized signal defined by the two polarization states $h_+$ and $h_\\times$. It is represented in our framework as a complex-valued signal $z[n] = h_+[n] - \\mathbf{i} h_\\times[n]$. SONATA studies bivariate signals via their $\\mathbb{H}$-embedding $y[n]\\in\\mathbb{H}$ -- hence a quaternion-valued signal.\n",
    "\n",
    "This section aims at computing the $\\mathbb{H}$-embedding $y$ of the bivariate signal $z$. During this operation, the polar form of $y$ is computed:\n",
    "$$ y[n] = a[n] e^{\\mathbf{i}\\theta[n]} e^{-\\mathbf{k}\\chi[n]} e^{\\mathbf{j}\\varphi[n]}, \\quad 0\\leq n < N.$$"
   ]
  },
  {
   "cell_type": "code",
   "execution_count": null,
   "metadata": {},
   "outputs": [],
   "source": [
    "z = bsp.utils.sympSynth(hplus, -hcross)\n",
    "\n",
    "z_as_H_embed = bsp.timefrequency.Hembedding(z)\n",
    "\n",
    "a = z_as_H_embed.a\n",
    "theta = z_as_H_embed.theta\n",
    "chi = z_as_H_embed.chi\n",
    "phi = z_as_H_embed.phi\n",
    "\n",
    "y = bsp.utils.euler2quat(a,theta,chi,phi)\n",
    "\n",
    "N = np.shape(y)[0]"
   ]
  },
  {
   "cell_type": "markdown",
   "metadata": {},
   "source": [
    "#### Definition of starting time $t_0$ of the signal\n",
    "\n",
    "The definition of $t_0$ lacks a unified answered from astro-physics experts. Indeed, this instant relates the exact moment from which the merger is finished and hence the moment from which the binary is no longer, giving place instead to the resulting black hole.\n",
    "\n",
    "For this first experiment, we will consider the moment where $a[n]$ is maximum. For the \"no-spin\" file, this happens around  $t_0 = 0.0034s$ and $t_0 = 0.0013s$ for the \"with-spin\" file."
   ]
  },
  {
   "cell_type": "code",
   "execution_count": null,
   "metadata": {},
   "outputs": [],
   "source": [
    "xlim = [t[0],t[N-1]]\n",
    "xlim = [0,0.03]\n",
    "\n",
    "plt.figure(figsize = [10,3])\n",
    "\n",
    "plt.subplot(1,4,1), plt.plot(t,a), plt.xlim(xlim), plt.title(\"$a[n]$\")\n",
    "plt.subplot(1,4,2)\n",
    "plt.plot(t,theta), plt.xlim(xlim), plt.ylim([-np.pi/2,np.pi/2]), plt.title(\"$\\\\theta[n]$\")\n",
    "plt.subplot(1,4,3)\n",
    "plt.plot(t,chi), plt.xlim(xlim), plt.ylim([-np.pi/4,np.pi/4]), plt.title(\"$\\\\chi[n]$\")\n",
    "plt.subplot(1,4,4)\n",
    "plt.plot(t,phi), plt.xlim(xlim), plt.ylim([-np.pi,np.pi]), plt.title(\"$\\\\varphi[n]$\")\n",
    "\n",
    "plt.tight_layout()"
   ]
  },
  {
   "cell_type": "code",
   "execution_count": null,
   "metadata": {},
   "outputs": [],
   "source": [
    "# t_0 = np.min(np.where(t>0.0034)) ## For the \"no-spin\" file\n",
    "t_0 = np.min(np.where(t>0.0013)) ## For the \"with-spin\" file\n",
    "\n",
    "t_end = 400\n",
    "\n",
    "xlim = [0, t[t_end]]\n",
    "\n",
    "plt.figure(figsize = [10,3])\n",
    "\n",
    "plt.subplot(1,4,1)\n",
    "plt.plot(t,a), plt.plot(t[t_0:t_end],a[t_0:t_end],'--'), plt.xlim(xlim), plt.title(\"$a[n]$\")\n",
    "plt.subplot(1,4,2)\n",
    "plt.plot(t,theta), plt.plot(t[t_0:t_end],theta[t_0:t_end],'--'), plt.xlim(xlim), plt.ylim([-np.pi/2,np.pi/2]), plt.title(\"$\\\\theta[n]$\")\n",
    "plt.subplot(1,4,3)\n",
    "plt.plot(t,chi), plt.plot(t[t_0:t_end],chi[t_0:t_end],'--'), plt.xlim(xlim), plt.ylim([-np.pi/4,np.pi/4]), plt.title(\"$\\\\chi[n]$\")\n",
    "plt.subplot(1,4,4)\n",
    "plt.plot(t,phi), plt.plot(t[t_0:t_end],phi[t_0:t_end],'--'), plt.xlim(xlim), plt.ylim([-np.pi,np.pi]), plt.title(\"$\\\\varphi[n]$\")\n",
    "\n",
    "plt.tight_layout()\n",
    "plt.show()"
   ]
  },
  {
   "cell_type": "code",
   "execution_count": null,
   "metadata": {},
   "outputs": [],
   "source": [
    "## Irreversible, the signals and the time are defined between $t_0$ and $t_end$.\n",
    "y = y[t_0:t_end]\n",
    "\n",
    "t = t[t_0:t_end]\n",
    "\n",
    "a = a[t_0:t_end]\n",
    "theta = theta[t_0:t_end]\n",
    "chi = chi[t_0:t_end]\n",
    "phi = phi[t_0:t_end]\n"
   ]
  },
  {
   "cell_type": "markdown",
   "metadata": {},
   "source": [
    "#### Performing SONATA on the synthetic ringdown data\n",
    "\n",
    "For both $R = 1$ and $R = 5$, we reconstruct the synthetic ringdown signal with SONATA. The estimation are then plotted, both visualizing the whole reconstruction and each component."
   ]
  },
  {
   "cell_type": "code",
   "execution_count": null,
   "metadata": {},
   "outputs": [],
   "source": [
    "R = 1\n",
    "\n",
    "M_hat_1, q_hat_1, flag_outer = sonata(y,R,number_inner_iterations=1)\n",
    "\n",
    "plot_blind_estimated_ellipses(t,y,M_hat_1,q_hat_1)"
   ]
  },
  {
   "cell_type": "code",
   "execution_count": null,
   "metadata": {},
   "outputs": [],
   "source": [
    "R = 5\n",
    "\n",
    "M_hat_5, q_hat_5, flag_outer = sonata(y,R,number_inner_iterations=1)\n",
    "\n",
    "plot_blind_estimated_ellipses(t,y,M_hat_5,q_hat_5)"
   ]
  },
  {
   "cell_type": "markdown",
   "metadata": {},
   "source": [
    "#### Visualization of both reconstruction (see Figure 5 of the paper)"
   ]
  },
  {
   "cell_type": "code",
   "execution_count": null,
   "metadata": {},
   "outputs": [],
   "source": [
    "y_1, y_2 = quaternion_to_complex(y)\n",
    "\n",
    "y1 = rdot(M_hat_1,q_hat_1)\n",
    "y1_1,y1_2 = quaternion_to_complex(y1)\n",
    "\n",
    "y5 = rdot(M_hat_5,q_hat_5)\n",
    "y5_1,y5_2 = quaternion_to_complex(y5)\n",
    "\n",
    "plt.figure(figsize = [8,8])\n",
    "gs = gridspec.GridSpec(12,4)\n",
    "gs.update(hspace=0.5, wspace=1, bottom=0.1, left=0.1, top=0.95, right=0.95)\n",
    "\n",
    "color_th = \"#000000\"\n",
    "color_1 = \"#ff7f0e\"\n",
    "color_5 = \"#2ca02c\"\n",
    "\n",
    "ax1 = plt.subplot(gs[:7, :2])\n",
    "ax1.plot(y_1.real,y_2.real, linewidth = 2,color = color_th)\n",
    "ax1.plot(y1_1.real,y1_2.real,\"--\",linewidth = 3, color = color_1)\n",
    "\n",
    "ax5 = plt.subplot(gs[:7,2:])\n",
    "ax5.plot(y_1.real,y_2.real, linewidth = 2,color = color_th)\n",
    "ax5.plot(y5_1.real,y5_2.real,\"--\",linewidth = 3, color = color_5)\n",
    "\n",
    "ax_u = plt.subplot(gs[8:10,:])\n",
    "ax_u.plot(t,y_1.real, linewidth = 3,color = color_th)\n",
    "ax_u.plot(t,y1_1.real,\":\",linewidth = 3, color = color_1)\n",
    "ax = ax_u.plot(t,y5_1.real,\":\",linewidth = 3,color = color_5)\n",
    "\n",
    "ax_v = plt.subplot(gs[10:,:])\n",
    "ax_v.plot(t,y_2.real, linewidth = 3,color = color_th)\n",
    "ax_v.plot(t,y1_2.real,\":\",linewidth = 3, color = color_1)\n",
    "ax_v.plot(t,y5_2.real,\":\",linewidth = 3,color = color_5)\n",
    "\n",
    "ax1.set_xlabel(\"$h_+[n]$\",fontsize = 15)\n",
    "ax5.set_xlabel(\"$h_+[n]$\",fontsize = 15)\n",
    "ax_v.set_xlabel(\"$t[n]$\",fontsize = 15)\n",
    "\n",
    "ax1.set_ylabel(\"$h_\\\\times[n]$\",fontsize = 15)\n",
    "ax_u.set_ylabel(\"$h_+[n]$\",fontsize = 15)\n",
    "ax_v.set_ylabel(\"$h_\\\\times[n]$\",fontsize = 15)\n",
    "\n",
    "val_lim = np.max(np.abs(ax_u.get_ylim()+ax_v.get_ylim()))\n",
    "\n",
    "ax_v.set_xlim([t[0],0.016])\n",
    "ax_u.set_xlim([t[0],0.016])\n",
    "ax1.set_xlim([-val_lim*0.75,val_lim*0.75])\n",
    "ax5.set_xlim([-val_lim*0.75,val_lim*0.75])\n",
    "\n",
    "ax1.set_ylim([-val_lim,val_lim*0.9])\n",
    "ax5.set_ylim([-val_lim,val_lim*0.9])\n",
    "ax_u.set_ylim([-val_lim,val_lim])\n",
    "ax_v.set_ylim([-val_lim,val_lim])\n",
    "\n",
    "ax_u.set_xticklabels([])\n",
    "\n",
    "ax1.legend([\"Synthetic ringdown\",\"SONATA for $R = 1$\"],loc = \"upper center\", fontsize = 15)\n",
    "ax5.legend([\"Synthetic ringdown\",\"SONATA for $R = 5$\"],loc = \"upper center\", fontsize = 15)\n",
    "\n",
    "ax_u.grid()\n",
    "ax_v.grid()\n",
    "ax1.grid()\n",
    "ax5.grid()\n",
    "\n",
    "ax_v.legend([\"Ringdown\",\"$R = 1$\",\"$R = 5$\"],loc = \"upper right\", fontsize = 15,ncol = 3,bbox_to_anchor = (1,1.4))\n",
    "\n",
    "ax1.set_title(\"$R = 1$\",fontsize = 18)\n",
    "ax5.set_title(\"$R = 5$\",fontsize = 18)\n",
    "\n",
    "plt.show()"
   ]
  },
  {
   "cell_type": "code",
   "execution_count": null,
   "metadata": {},
   "outputs": [],
   "source": [
    "print(\"Reconstruction error for R = 1 : \", np.mean(abs(y-rdot(M_hat_1,q_hat_1))**2)/np.mean(abs(y)**2))\n",
    "print(\"Reconstruction error for R = 5 : \", np.mean(abs(y-rdot(M_hat_5,q_hat_5))**2)/np.mean(abs(y)**2))"
   ]
  }
 ],
 "metadata": {
  "kernelspec": {
   "display_name": ".venv",
   "language": "python",
   "name": "python3"
  },
  "language_info": {
   "codemirror_mode": {
    "name": "ipython",
    "version": 3
   },
   "file_extension": ".py",
   "mimetype": "text/x-python",
   "name": "python",
   "nbconvert_exporter": "python",
   "pygments_lexer": "ipython3",
   "version": "3.9.6"
  }
 },
 "nbformat": 4,
 "nbformat_minor": 2
}
