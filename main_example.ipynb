{
 "cells": [
  {
   "cell_type": "markdown",
   "metadata": {},
   "source": [
    "# The SONATA algorithm\n",
    "\n",
    "In this notebook, we show an example showing the whole pipeline of the SONATA method.\n",
    "For more information on SONATA, please refer to the related (submitted) SSP article and references therein:\n",
    "\n",
    "[Philippe __Flores__, Julien __Flamant__, Pierre-Olivier __Amblard__, Nicolas __Le Bihan__, _Damped ellipse decomposition for bivariate signals_. Submitted to SSP 2025.]\n",
    "\n",
    "For more information or materials on this regard, please feel free to contact the authors by mail."
   ]
  },
  {
   "cell_type": "code",
   "execution_count": null,
   "metadata": {},
   "outputs": [],
   "source": [
    "## Package importations\n",
    "import numpy as np\n",
    "import bispy as bsp\n",
    "import quaternion as qt\n",
    "import scipy\n",
    "\n",
    "import matplotlib.pyplot as plt\n",
    "import matplotlib.gridspec as gridspec\n",
    "\n",
    "from sonata_base import *\n",
    "from sonata_slra import *\n",
    "from sonata_ellipse import *\n",
    "from sonata_visuals import *\n",
    "\n",
    "%reload_ext autoreload\n",
    "%autoreload 2"
   ]
  },
  {
   "cell_type": "markdown",
   "metadata": {},
   "source": [
    "#### Generation of a damped ellipse mixture\n",
    "\n",
    "Here, a damped ellipse mixture that follows Equation (5) of the paper is generated."
   ]
  },
  {
   "cell_type": "code",
   "execution_count": null,
   "metadata": {},
   "outputs": [],
   "source": [
    "N = 512 # Number of samples\n",
    "t = np.linspace(0,1,N) # time stamps\n",
    "R = 3\n",
    "\n",
    "y, M, q = generate_ellipse_mixture(N,R)\n",
    "plot_theoretical_signal(t,y)"
   ]
  },
  {
   "cell_type": "markdown",
   "metadata": {},
   "source": [
    "#### Adding Gaussian proper noise\n",
    "\n",
    "Choosing the SNR, this section adds Gaussian proper noise (proper in the sense that the noise is unpolarized) to the theoretical damped ellipse mixture."
   ]
  },
  {
   "cell_type": "code",
   "execution_count": null,
   "metadata": {},
   "outputs": [],
   "source": [
    "snr = 1\n",
    "\n",
    "y_noised, b = add_quaternion_white_noise(y,snr)\n",
    "\n",
    "plot_noisy_signal(t,y,b, method_limits='noise')"
   ]
  },
  {
   "cell_type": "markdown",
   "metadata": {},
   "source": [
    "#### Performing SONATA and visualizing recovered damped ellipses"
   ]
  },
  {
   "cell_type": "code",
   "execution_count": null,
   "metadata": {},
   "outputs": [],
   "source": [
    "M_hat, q_hat, flag_outer = sonata(y,R,number_inner_iterations=5, L = 128, number_outer_iterations=50)\n",
    "\n",
    "plot_estimated_ellipses(t,M,M_hat,q,q_hat,y_noised,method_limits='theory')"
   ]
  }
 ],
 "metadata": {
  "kernelspec": {
   "display_name": ".venv",
   "language": "python",
   "name": "python3"
  },
  "language_info": {
   "codemirror_mode": {
    "name": "ipython",
    "version": 3
   },
   "file_extension": ".py",
   "mimetype": "text/x-python",
   "name": "python",
   "nbconvert_exporter": "python",
   "pygments_lexer": "ipython3",
   "version": "3.9.6"
  }
 },
 "nbformat": 4,
 "nbformat_minor": 2
}
